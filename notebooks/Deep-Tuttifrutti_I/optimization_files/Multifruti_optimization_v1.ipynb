{
 "cells": [
  {
   "attachments": {},
   "cell_type": "markdown",
   "metadata": {},
   "source": [
    "# CNN_V1 optimization for multifruit datasets \n",
    "## (cross-fruit validation + single seed init)"
   ]
  },
  {
   "attachments": {},
   "cell_type": "markdown",
   "metadata": {
    "jp-MarkdownHeadingCollapsed": true,
    "tags": []
   },
   "source": [
    "## 1) Import libraries\n",
    "In this first step we import all the main libraries"
   ]
  },
  {
   "cell_type": "code",
   "execution_count": 3,
   "metadata": {
    "ExecuteTime": {
     "end_time": "2023-04-10T13:07:25.885153Z",
     "start_time": "2023-04-10T13:07:19.994101Z"
    },
    "execution": {
     "iopub.execute_input": "2023-05-18T16:54:44.838333Z",
     "iopub.status.busy": "2023-05-18T16:54:44.837760Z",
     "iopub.status.idle": "2023-05-18T16:54:47.913653Z",
     "shell.execute_reply": "2023-05-18T16:54:47.912920Z",
     "shell.execute_reply.started": "2023-05-18T16:54:44.838305Z"
    },
    "tags": []
   },
   "outputs": [],
   "source": [
    "import os\n",
    "import sys\n",
    "from sys import stdout\n",
    "import logging\n",
    "\n",
    "import random\n",
    "import numpy as np\n",
    "import matplotlib\n",
    "import matplotlib.pyplot as plt\n",
    "import seaborn as sns \n",
    "import pandas as pd\n",
    "from IPython.display import clear_output\n",
    "\n",
    "import scipy.io as sio\n",
    "from scipy.signal import savgol_filter\n",
    "import tqdm\n",
    "from itertools import permutations\n",
    "\n",
    "from sklearn.preprocessing import StandardScaler \n",
    "from sklearn.cross_decomposition import PLSRegression\n",
    "from sklearn.decomposition import PCA\n",
    "from sklearn.manifold import TSNE\n",
    "from sklearn.model_selection import cross_val_score , KFold\n",
    "from sklearn.metrics import mean_squared_error, r2_score, classification_report \n",
    "from sklearn.model_selection import train_test_split\n",
    "from sklearn.utils import shuffle\n",
    "\n",
    "\n",
    "import tensorflow as tf\n",
    "from tensorflow import keras \n",
    "from tensorflow.keras.models import Sequential\n",
    "from tensorflow.keras.layers import Dense, Flatten\n",
    "from tensorflow.keras.layers import Conv1D, Reshape\n",
    "from tensorflow.keras.callbacks import EarlyStopping, ReduceLROnPlateau, Callback,  ModelCheckpoint\n",
    "from tensorflow.keras.utils import plot_model, to_categorical  \n",
    "import tensorflow_addons as tfa\n",
    "\n",
    "## Use liveslossplot for training visualization in real time\n",
    "from livelossplot import PlotLossesKerasTF\n",
    "\n",
    "import optuna\n",
    "import GPUtil\n",
    "from tabulate import tabulate\n",
    "import psutil\n",
    "import platform\n",
    "import socket\n",
    "from datetime import datetime\n",
    "\n",
    "## If you have a weights and biases account, you can use it to track your experiments\n",
    "# import wandb\n",
    "# from wandb.keras import WandbCallback\n",
    "# from optuna.integration.wandb import WeightsAndBiasesCallback"
   ]
  },
  {
   "cell_type": "code",
   "execution_count": 4,
   "metadata": {
    "ExecuteTime": {
     "end_time": "2023-04-10T13:07:25.901140Z",
     "start_time": "2023-04-10T13:07:25.888150Z"
    },
    "execution": {
     "iopub.execute_input": "2023-05-18T16:54:47.915628Z",
     "iopub.status.busy": "2023-05-18T16:54:47.915160Z",
     "iopub.status.idle": "2023-05-18T16:54:48.614870Z",
     "shell.execute_reply": "2023-05-18T16:54:48.614057Z",
     "shell.execute_reply.started": "2023-05-18T16:54:47.915603Z"
    },
    "tags": []
   },
   "outputs": [
    {
     "name": "stdout",
     "output_type": "stream",
     "text": [
      "\n",
      "--------  Running @ Athena  using  Windows-10-10.0.23580-SP0 --------\n",
      "\n",
      "Last run at = 02/11/2023 14:32:36\n",
      "-------- SOFTWARE INFO --------\n",
      "Python  3.10.9 | packaged by conda-forge | (main, Jan 11 2023, 15:15:40) [MSC v.1916 64 bit (AMD64)]\n",
      "Tensorflow  2.10.0\n",
      "Tensorflow add-ons  0.20.0\n",
      "tqdm  4.64.1\n",
      "Numpy  1.24.2\n",
      "Pandas 2.0.3\n",
      "Optuna  3.2.0\n",
      "\n",
      "-------- HARDWARE INFO --------\n",
      "CPU: Intel64 Family 6 Model 183 Stepping 1, GenuineIntel\n",
      "\tPhysical cores: 24\n",
      "\tTotal cores: 32\n",
      "\tMax Frequency: 3000.00Mhz\n",
      "RAM: 64 Gb\n",
      "GPU available:  [PhysicalDevice(name='/physical_device:GPU:0', device_type='GPU'), PhysicalDevice(name='/physical_device:GPU:1', device_type='GPU')]\n",
      "======================================== GPU Details ========================================\n",
      "  id  name                        load    free memory    used memory    total memory    temperature    uuid\n",
      "----  --------------------------  ------  -------------  -------------  --------------  -------------  ----------------------------------------\n",
      "   0  NVIDIA GeForce RTX 2080 Ti  1.0%    377.0MB        10663.0MB      11264.0MB       41.0 °C        GPU-1bf5115b-28d3-bd41-3a30-c7e668a76218\n",
      "   1  NVIDIA GeForce RTX 2080 Ti  0.0%    11041.0MB      0.0MB          11264.0MB       29.0 °C        GPU-ee046fac-5013-67cc-170b-077ea9d2a5ba\n",
      "\n",
      "Is CUDA accessible by the GPU?  True\n"
     ]
    }
   ],
   "source": [
    "## Choose GPU:0 in case of multiple GPUs\n",
    "# os.environ[\"CUDA_VISIBLE_DEVICES\"] = \"0\"\n",
    "\n",
    "## Print machine info\n",
    "print('\\n--------  Running @',socket.gethostname(),' using ', platform.platform(),'--------\\n' ) \n",
    "# Get current date and time\n",
    "now = datetime.now()\n",
    "dt_string = now.strftime(\"%d/%m/%Y %H:%M:%S\")\n",
    "print(\"Last run at =\", dt_string)\n",
    "\n",
    "### Print versions and hardware info\n",
    "print('-------- SOFTWARE INFO --------')\n",
    "print('Python ', sys.version)\n",
    "print('Tensorflow ', tf.__version__)\n",
    "print('Tensorflow add-ons ', tfa.__version__)\n",
    "print('tqdm ', tqdm.__version__)\n",
    "print('Numpy ', np.__version__)\n",
    "print('Pandas', pd.__version__)\n",
    "print('Optuna ', optuna.__version__)\n",
    "# print('livelossplot ', livelossplot.__version__)\n",
    "\n",
    "## print hardware info\n",
    "print('\\n-------- HARDWARE INFO --------')\n",
    "# CPU\n",
    "print('CPU:', platform.processor())\n",
    "print(\"\\tPhysical cores:\", psutil.cpu_count(logical=False))\n",
    "print(\"\\tTotal cores:\", psutil.cpu_count(logical=True))\n",
    "cpufreq = psutil.cpu_freq()\n",
    "print(f\"\\tMax Frequency: {cpufreq.max:.2f}Mhz\")\n",
    "# RAM\n",
    "print(f'RAM: {int(np.round(psutil.virtual_memory().total / (1024. **3)))} Gb')\n",
    "# GPU\n",
    "print('GPU available: ', tf.config.list_physical_devices('GPU'))\n",
    "print(\"=\"*40, \"GPU Details\", \"=\"*40)\n",
    "gpus = GPUtil.getGPUs()\n",
    "list_gpus = []\n",
    "for gpu in gpus:\n",
    "    # get the GPU id\n",
    "    gpu_id = gpu.id\n",
    "    # name of GPU\n",
    "    gpu_name = gpu.name\n",
    "    # get % percentage of GPU usage of that GPU\n",
    "    gpu_load = f\"{gpu.load*100}%\"\n",
    "    # get free memory in MB format\n",
    "    gpu_free_memory = f\"{gpu.memoryFree}MB\"\n",
    "    # get used memory\n",
    "    gpu_used_memory = f\"{gpu.memoryUsed}MB\"\n",
    "    # get total memory\n",
    "    gpu_total_memory = f\"{gpu.memoryTotal}MB\"\n",
    "    # get GPU temperature in Celsius\n",
    "    gpu_temperature = f\"{gpu.temperature} °C\"\n",
    "    gpu_uuid = gpu.uuid\n",
    "    list_gpus.append((\n",
    "        gpu_id, gpu_name, gpu_load, gpu_free_memory, gpu_used_memory,\n",
    "        gpu_total_memory, gpu_temperature, gpu_uuid\n",
    "    ))\n",
    "\n",
    "print(tabulate(list_gpus, headers=(\"id\", \"name\", \"load\", \"free memory\", \"used memory\", \"total memory\",\n",
    "                                   \"temperature\", \"uuid\")))\n",
    "\n",
    "print('\\nIs CUDA accessible by the GPU? ', tf.test.is_built_with_cuda())"
   ]
  },
  {
   "attachments": {},
   "cell_type": "markdown",
   "metadata": {
    "heading_collapsed": true,
    "jp-MarkdownHeadingCollapsed": true,
    "tags": []
   },
   "source": [
    "## 2) Help functions\n",
    "In this section we implement a series of help functions that will be used during the optimization procedure. Run every cell once to ensure that all help functions are loaded."
   ]
  },
  {
   "cell_type": "code",
   "execution_count": 5,
   "metadata": {
    "ExecuteTime": {
     "end_time": "2023-04-10T13:07:25.916138Z",
     "start_time": "2023-04-10T13:07:25.903137Z"
    },
    "execution": {
     "iopub.execute_input": "2023-05-18T16:54:48.616596Z",
     "iopub.status.busy": "2023-05-18T16:54:48.616175Z",
     "iopub.status.idle": "2023-05-18T16:54:48.622196Z",
     "shell.execute_reply": "2023-05-18T16:54:48.621260Z",
     "shell.execute_reply.started": "2023-05-18T16:54:48.616540Z"
    },
    "hidden": true,
    "tags": []
   },
   "outputs": [],
   "source": [
    "## Define random seeds ir order to maintain reproducible results through multiple testing phases\n",
    "def reproducible_comp():\n",
    "    os.environ['PYTHONHASHSEED'] = '0'\n",
    "    np.random.seed(42)\n",
    "    random.seed(42)\n",
    "    tf.random.set_seed(42)\n",
    "    \n",
    "reproducible_comp()"
   ]
  },
  {
   "attachments": {},
   "cell_type": "markdown",
   "metadata": {
    "hidden": true
   },
   "source": [
    "Axiliary function to compute error metrics and make prediction plots"
   ]
  },
  {
   "cell_type": "code",
   "execution_count": 6,
   "metadata": {
    "ExecuteTime": {
     "end_time": "2023-04-10T13:07:25.931113Z",
     "start_time": "2023-04-10T13:07:25.919123Z"
    },
    "execution": {
     "iopub.execute_input": "2023-05-18T16:54:48.625322Z",
     "iopub.status.busy": "2023-05-18T16:54:48.624956Z",
     "iopub.status.idle": "2023-05-18T16:54:48.641092Z",
     "shell.execute_reply": "2023-05-18T16:54:48.640185Z",
     "shell.execute_reply.started": "2023-05-18T16:54:48.625289Z"
    },
    "hidden": true,
    "tags": []
   },
   "outputs": [],
   "source": [
    "## Function to compute metrics and make prediction plots\n",
    "def plot_prediction(X_calib, Y_calib, X_valid, Y_valid, X_test, Y_test, Y_calib_pred, Y_valid_pred, Y_test_pred, savefig=False, figname=None):\n",
    "    \n",
    "    ## Compute train error scores \n",
    "    score_p0 = r2_score(Y_calib, Y_calib_pred)\n",
    "    mse_p0 = mean_squared_error(Y_calib, Y_calib_pred)\n",
    "    rmse_p0 = np.sqrt(mse_p0)\n",
    "    \n",
    "    ## Compute valid error scores\n",
    "    score_p1 = r2_score(Y_valid, Y_valid_pred)\n",
    "    mse_p1 = mean_squared_error(Y_valid, Y_valid_pred)\n",
    "    rmse_p1 = np.sqrt(mse_p1)\n",
    "        \n",
    "    ## Compute test error scores \n",
    "    score_p2 = r2_score(Y_test, Y_test_pred)\n",
    "    mse_p2 = mean_squared_error(Y_test, Y_test_pred)\n",
    "    rmse_p2 = np.sqrt(mse_p2)\n",
    "\n",
    "  \n",
    "    print('ERROR METRICS: \\t TRAIN \\t\\t VALID \\t\\t TEST')\n",
    "    print('------------------------------------------------------')\n",
    "    print('R2: \\t\\t %5.3f \\t\\t %5.3f \\t\\t %5.3f'  % (score_p0, score_p1, score_p2 ))\n",
    "    print('RMSE: \\t\\t %5.3f \\t\\t %5.3f \\t\\t %5.3f' % (rmse_p0, rmse_p1,  rmse_p2))\n",
    "    \n",
    " \n",
    "    ## Plot regression for PLS predicted data\n",
    "    rangey = max(Y_test) - min(Y_test)\n",
    "    rangex = max(Y_test_pred) - min(Y_test_pred)\n",
    "\n",
    "    fig=plt.figure(figsize=(6,6))\n",
    "    z = np.polyfit(np.ravel(Y_test), np.ravel(Y_test_pred), 1)\n",
    "    ax = plt.subplot(aspect=1)\n",
    "    ax.scatter(Y_test,Y_test_pred,c='k',marker='o',s=20, alpha=0.6)\n",
    "    ax.plot(Y_test, z[1]+z[0]*Y_test, c='blue', linewidth=2,label='linear fit')\n",
    "    ax.plot(Y_test, Y_test, 'k--', linewidth=1.5, label='y=x')\n",
    "    plt.ylabel('Predicted DM')\n",
    "    plt.xlabel('Measured DM')\n",
    "    plt.title('Prediction from CNN')\n",
    "    plt.legend(loc=4)\n",
    "\n",
    "    \n",
    "    # Print the scores on the plot\n",
    "    plt.text(min(Y_test_pred)+0.02*rangex, max(Y_test)-0.1*rangey, 'R$^{2}=$ %5.3f'  % score_p2)\n",
    "    plt.text(min(Y_test_pred)+0.02*rangex, max(Y_test)-0.15*rangey, 'RMSE: %5.3f' % rmse_p2)\n",
    "    if savefig==True:\n",
    "        plt.savefig(figname, dpi=96)\n",
    "        print('Figure saved')\n",
    "    else:    \n",
    "        plt.show() \n",
    "    return "
   ]
  },
  {
   "attachments": {},
   "cell_type": "markdown",
   "metadata": {
    "hidden": true
   },
   "source": [
    "Set parameters for graphics formating"
   ]
  },
  {
   "cell_type": "code",
   "execution_count": 7,
   "metadata": {
    "ExecuteTime": {
     "end_time": "2023-04-10T13:07:25.994060Z",
     "start_time": "2023-04-10T13:07:25.980072Z"
    },
    "execution": {
     "iopub.execute_input": "2023-05-18T16:54:48.642562Z",
     "iopub.status.busy": "2023-05-18T16:54:48.642193Z",
     "iopub.status.idle": "2023-05-18T16:54:48.650662Z",
     "shell.execute_reply": "2023-05-18T16:54:48.649519Z",
     "shell.execute_reply.started": "2023-05-18T16:54:48.642528Z"
    },
    "hidden": true,
    "tags": []
   },
   "outputs": [],
   "source": [
    "## Graphics settings\n",
    "## Setting the font sizes for comming figures\n",
    "# plt.style.use(\"default\")\n",
    "SMALL_SIZE = 10\n",
    "MEDIUM_SIZE = 12\n",
    "BIGGER_SIZE = 14\n",
    "\n",
    "## uncomment for Latex graphics formating\n",
    "# plt.rcParams.update({\n",
    "#     \"text.usetex\": True,\n",
    "#     \"font.family\": \"serif\",\n",
    "#     \"font.sans-serif\": [\"Times\"]})\n",
    "\n",
    "# plt.rc('text', usetex=True)\n",
    "plt.rc('font', size=SMALL_SIZE)          # controls default text sizes\n",
    "plt.rc('axes', titlesize=SMALL_SIZE)     # fontsize of the axes title\n",
    "plt.rc('axes', labelsize=MEDIUM_SIZE)    # fontsize of the x and y labels\n",
    "plt.rc('xtick', labelsize=SMALL_SIZE)    # fontsize of the tick labels\n",
    "plt.rc('ytick', labelsize=SMALL_SIZE)    # fontsize of the tick labels\n",
    "plt.rc('legend', fontsize=SMALL_SIZE)    # legend fontsize\n",
    "plt.rc('figure', titlesize=BIGGER_SIZE)  # fontsize of the figure title"
   ]
  },
  {
   "attachments": {},
   "cell_type": "markdown",
   "metadata": {
    "jp-MarkdownHeadingCollapsed": true,
    "tags": []
   },
   "source": [
    "## 3) Data wrangling"
   ]
  },
  {
   "attachments": {},
   "cell_type": "markdown",
   "metadata": {
    "tags": []
   },
   "source": [
    "### 3.1) Loading the tuttifruti dataset"
   ]
  },
  {
   "attachments": {},
   "cell_type": "markdown",
   "metadata": {},
   "source": [
    "Read the data (matlab format) using the scipy.io module "
   ]
  },
  {
   "cell_type": "code",
   "execution_count": 8,
   "metadata": {
    "ExecuteTime": {
     "end_time": "2023-04-10T13:07:26.056373Z",
     "start_time": "2023-04-10T13:07:25.996060Z"
    },
    "execution": {
     "iopub.execute_input": "2023-05-18T16:54:48.652883Z",
     "iopub.status.busy": "2023-05-18T16:54:48.652040Z",
     "iopub.status.idle": "2023-05-18T16:54:48.716231Z",
     "shell.execute_reply": "2023-05-18T16:54:48.715512Z",
     "shell.execute_reply.started": "2023-05-18T16:54:48.652849Z"
    },
    "tags": []
   },
   "outputs": [
    {
     "name": "stdout",
     "output_type": "stream",
     "text": [
      "dict_keys(['__header__', '__version__', '__globals__', 'apple_sp', 'avocado_sp', 'dm_apple', 'dm_avocado', 'dm_kiwi', 'dm_mango', 'dm_pear', 'kiwi_sp', 'mango_sp', 'pear_sp', 'wavelength'])\n"
     ]
    }
   ],
   "source": [
    "data = sio.loadmat('../data/multifruit_DL.mat')\n",
    "print(data.keys())\n",
    "\n",
    "## wavelenght for plots\n",
    "w = np.ravel(data['wavelength'])"
   ]
  },
  {
   "cell_type": "code",
   "execution_count": 9,
   "metadata": {
    "ExecuteTime": {
     "end_time": "2023-04-10T13:07:31.341360Z",
     "start_time": "2023-04-10T13:07:30.373360Z"
    },
    "execution": {
     "iopub.execute_input": "2023-05-18T16:54:48.717756Z",
     "iopub.status.busy": "2023-05-18T16:54:48.717523Z",
     "iopub.status.idle": "2023-05-18T16:54:49.411915Z",
     "shell.execute_reply": "2023-05-18T16:54:49.410783Z",
     "shell.execute_reply.started": "2023-05-18T16:54:48.717737Z"
    },
    "tags": []
   },
   "outputs": [
    {
     "data": {
      "image/png": "[encoded data removed]",
      "text/plain": [
       "<Figure size 1200x300 with 1 Axes>"
      ]
     },
     "metadata": {},
     "output_type": "display_data"
    },
    {
     "name": "stdout",
     "output_type": "stream",
     "text": [
      "(725, 105)\n"
     ]
    }
   ],
   "source": [
    "## initial and final spectral features\n",
    "wi = 150\n",
    "wf = 255\n",
    "plt.figure(figsize=(12,3))\n",
    "plt.plot(w,data['mango_sp'].T)\n",
    "plt.axvline(w[wi])\n",
    "plt.axvline(w[wf])\n",
    "plt.show()\n",
    "\n",
    "print(np.shape(data['mango_sp'][:,wi:wf]))"
   ]
  },
  {
   "attachments": {},
   "cell_type": "markdown",
   "metadata": {},
   "source": [
    "We further split the training set into \"calibration\" and \"tuning\" subsets. This will be useful for the hyperparameter optimization of the models ahead. "
   ]
  },
  {
   "cell_type": "code",
   "execution_count": 10,
   "metadata": {
    "ExecuteTime": {
     "end_time": "2023-04-10T13:07:31.371336Z",
     "start_time": "2023-04-10T13:07:31.343360Z"
    },
    "execution": {
     "iopub.execute_input": "2023-05-18T16:54:49.413208Z",
     "iopub.status.busy": "2023-05-18T16:54:49.412950Z",
     "iopub.status.idle": "2023-05-18T16:54:49.427980Z",
     "shell.execute_reply": "2023-05-18T16:54:49.427000Z",
     "shell.execute_reply.started": "2023-05-18T16:54:49.413187Z"
    },
    "tags": []
   },
   "outputs": [
    {
     "name": "stdout",
     "output_type": "stream",
     "text": [
      "Datasets dimensions:\n",
      "Apple: train [(1124, 105), (1124, 1)], test [(281, 105), (281, 1)] \n",
      "Avocado: train [(464, 105), (464, 1)], test [(116, 105), (116, 1)] \n",
      "Kiwi: train [(438, 105), (438, 1)], test [(110, 105), (110, 1)] \n",
      "Mango: train [(580, 105), (580, 1)], test [(145, 105), (145, 1)] \n",
      "Pear: train [(255, 105), (255, 1)], test [(64, 105), (64, 1)] \n"
     ]
    }
   ],
   "source": [
    "## initial and final spectral features\n",
    "wi = 150\n",
    "wf = 255\n",
    "\n",
    "## train / test split of datasets\n",
    "x_apple_train, x_apple_test, y_apple_train, y_apple_test = train_test_split(data['apple_sp'][:,wi:wf], data['dm_apple'], test_size=0.2, random_state=42)\n",
    "x_avocado_train, x_avocado_test, y_avocado_train, y_avocado_test = train_test_split(data['avocado_sp'][:,wi:wf], data['dm_avocado'], test_size=0.2, random_state=42)\n",
    "x_kiwi_train, x_kiwi_test, y_kiwi_train, y_kiwi_test = train_test_split(data['kiwi_sp'][:,wi:wf], data['dm_kiwi'], test_size=0.2, random_state=42)\n",
    "x_mango_train, x_mango_test, y_mango_train, y_mango_test = train_test_split(data['mango_sp'][:,wi:wf], data['dm_mango'], test_size=0.2, random_state=42)\n",
    "x_pear_train, x_pear_test, y_pear_train, y_pear_test = train_test_split(data['pear_sp'][:,wi:wf], data['dm_pear'], test_size=0.2, random_state=42)\n",
    "\n",
    "print('Datasets dimensions:')\n",
    "print('Apple: train {}, test {} '.format([x_apple_train.shape, y_apple_train.shape],[x_apple_test.shape, y_apple_test.shape]))\n",
    "print('Avocado: train {}, test {} '.format([x_avocado_train.shape, y_avocado_train.shape],[x_avocado_test.shape, y_avocado_test.shape]))\n",
    "print('Kiwi: train {}, test {} '.format([x_kiwi_train.shape, y_kiwi_train.shape],[x_kiwi_test.shape, y_kiwi_test.shape]))\n",
    "print('Mango: train {}, test {} '.format([x_mango_train.shape, y_mango_train.shape],[x_mango_test.shape, y_mango_test.shape]))\n",
    "print('Pear: train {}, test {} '.format([x_pear_train.shape, y_pear_train.shape],[x_pear_test.shape, y_pear_test.shape]))"
   ]
  },
  {
   "cell_type": "code",
   "execution_count": 11,
   "metadata": {
    "ExecuteTime": {
     "end_time": "2023-04-10T13:07:31.387325Z",
     "start_time": "2023-04-10T13:07:31.374333Z"
    },
    "execution": {
     "iopub.execute_input": "2023-05-18T16:54:49.430162Z",
     "iopub.status.busy": "2023-05-18T16:54:49.429336Z",
     "iopub.status.idle": "2023-05-18T16:54:49.439403Z",
     "shell.execute_reply": "2023-05-18T16:54:49.438682Z",
     "shell.execute_reply.started": "2023-05-18T16:54:49.430121Z"
    },
    "tags": []
   },
   "outputs": [],
   "source": [
    "## Create lists with multi fruit data for train and test\n",
    "\n",
    "## Train data\n",
    "x_train_list = [x_apple_train.astype(np.float32), x_kiwi_train.astype(np.float32),  x_mango_train.astype(np.float32), \\\n",
    "                x_pear_train.astype(np.float32), x_avocado_train.astype(np.float32)]\n",
    "\n",
    "y_train_list = [y_apple_train.astype(np.float32), y_kiwi_train.astype(np.float32), y_mango_train.astype(np.float32),\n",
    "                y_pear_train.astype(np.float32), y_avocado_train.astype(np.float32)]\n",
    "\n",
    "## Test data\n",
    "x_test_list = [x_apple_test.astype(np.float32), x_kiwi_test.astype(np.float32),  x_mango_test.astype(np.float32), \\\n",
    "               x_pear_test.astype(np.float32), x_avocado_test.astype(np.float32)]\n",
    "y_test_list = [y_apple_test.astype(np.float32), y_kiwi_test.astype(np.float32), y_mango_test.astype(np.float32),\\\n",
    "               y_pear_test.astype(np.float32), y_avocado_test.astype(np.float32)]\n",
    "\n",
    "## Create a list with the names of the fruits\n",
    "fruits = ['Apple', 'Kiwi', 'Mango', 'Pear', 'Avocado']\n"
   ]
  },
  {
   "attachments": {},
   "cell_type": "markdown",
   "metadata": {
    "ExecuteTime": {
     "end_time": "2020-07-16T09:53:07.537080Z",
     "start_time": "2020-07-16T09:53:07.514338Z"
    }
   },
   "source": [
    "### 3.2) Data pre-processing and train test split"
   ]
  },
  {
   "cell_type": "code",
   "execution_count": 12,
   "metadata": {
    "ExecuteTime": {
     "end_time": "2023-04-10T13:07:31.403310Z",
     "start_time": "2023-04-10T13:07:31.389321Z"
    },
    "execution": {
     "iopub.execute_input": "2023-05-18T16:54:49.442123Z",
     "iopub.status.busy": "2023-05-18T16:54:49.441807Z",
     "iopub.status.idle": "2023-05-18T16:54:49.446495Z",
     "shell.execute_reply": "2023-05-18T16:54:49.445682Z",
     "shell.execute_reply.started": "2023-05-18T16:54:49.442102Z"
    },
    "tags": []
   },
   "outputs": [],
   "source": [
    "## Since the test set is unknown (we are not suppose to have access to it during the\n",
    "## optimization of the model) the scalling process should take this into account. We\n",
    "## have to define a scaler based only on the train data, and apply it to the test data.\n",
    "\n",
    "def standardize_column(X_train, X_test):\n",
    "    ## We train the scaler on the full train set and apply it to the other datasets\n",
    "    scaler = StandardScaler().fit(X_train)\n",
    "    ## for columns we fit the scaler to the train set and apply it to the test set\n",
    "    X_train_scaled = scaler.transform(X_train)\n",
    "    X_test_scaled = scaler.transform(X_test)\n",
    "    return [X_train_scaled, X_test_scaled]"
   ]
  },
  {
   "cell_type": "code",
   "execution_count": 13,
   "metadata": {
    "ExecuteTime": {
     "end_time": "2023-04-10T13:07:31.419294Z",
     "start_time": "2023-04-10T13:07:31.406306Z"
    },
    "execution": {
     "iopub.execute_input": "2023-05-18T16:54:49.448063Z",
     "iopub.status.busy": "2023-05-18T16:54:49.447511Z",
     "iopub.status.idle": "2023-05-18T16:54:49.459318Z",
     "shell.execute_reply": "2023-05-18T16:54:49.458706Z",
     "shell.execute_reply.started": "2023-05-18T16:54:49.448039Z"
    },
    "tags": []
   },
   "outputs": [],
   "source": [
    "## Standardize the spectra (Leaving out avocado data)\n",
    "x_train_scaled_col, x_test_scaled_col = standardize_column(np.concatenate(x_train_list[:-1]), np.concatenate(x_test_list[:-1]))\n",
    "\n",
    "y_train = np.concatenate(y_train_list[:-1])\n",
    "y_test = np.concatenate(y_test_list[:-1])"
   ]
  },
  {
   "attachments": {},
   "cell_type": "markdown",
   "metadata": {},
   "source": [
    "## 4) Regression CNN Optimization (fixed init seed)"
   ]
  },
  {
   "cell_type": "code",
   "execution_count": 14,
   "metadata": {
    "ExecuteTime": {
     "end_time": "2023-04-10T13:07:37.709258Z",
     "start_time": "2023-04-10T13:07:37.695270Z"
    },
    "execution": {
     "iopub.execute_input": "2023-05-18T16:54:49.460384Z",
     "iopub.status.busy": "2023-05-18T16:54:49.460160Z",
     "iopub.status.idle": "2023-05-18T16:54:49.474197Z",
     "shell.execute_reply": "2023-05-18T16:54:49.473244Z",
     "shell.execute_reply.started": "2023-05-18T16:54:49.460365Z"
    },
    "tags": []
   },
   "outputs": [],
   "source": [
    "## Make computations reproducible\n",
    "reproducible_comp()\n",
    "\n",
    "## Define the model\n",
    "def create_model(num_FC_layers, num_FC_units, filter_size, DROPOUT, reg_beta):\n",
    "    ## Layers dimensions\n",
    "    INPUT_DIMS = np.shape(x_train_scaled_col)[1]\n",
    "    CONV1D_DIMS = INPUT_DIMS\n",
    "    K_NUMBER = 1\n",
    "    K_WIDTH = filter_size\n",
    "    K_STRIDE = 1\n",
    "    OUTPUT_DIMS = 1\n",
    "    \n",
    "    \n",
    "    ## Global (all layers) L2 regularizer parameter\n",
    "    beta = reg_beta\n",
    "    K_REG = tf.keras.regularizers.l2(beta)\n",
    "    \n",
    "    ## For the sake of simplicity we do the weights initialization for multiple layers here\n",
    "    K_INIT = tf.keras.initializers.he_normal(seed=123)\n",
    "    \n",
    "    ## Architecture of the main model\n",
    "    ## This way of implementing the model is analogous to the way we previously did although it is done\n",
    "    ## in an alternative way that allows a bit more coding freedom. \n",
    "    model_cnn = keras.Sequential(name='MODEL_CNN_V1')\n",
    "    model_cnn.add(keras.layers.Reshape((INPUT_DIMS, 1),input_shape=(INPUT_DIMS,), name='INPUT'))\n",
    "    model_cnn.add(keras.layers.Conv1D(filters=K_NUMBER, \\\n",
    "                                      kernel_size=K_WIDTH, \\\n",
    "                                      strides=K_STRIDE, \\\n",
    "                                      padding='same', \\\n",
    "                                      kernel_initializer=K_INIT,\\\n",
    "                                      kernel_regularizer=K_REG,\\\n",
    "                                      activation='elu',\\\n",
    "                                      input_shape=(CONV1D_DIMS,1), name='CONVOLUTIONAL'))\n",
    "    \n",
    "    model_cnn.add(keras.layers.Flatten(name='FLATTEN'))\n",
    "    \n",
    "    ## For the FC layer block, we implement a loop that adds dense layers with a certain number of units\n",
    "    ## followed by a dropout layer (with a certain dropout rate)\n",
    "    ## The number of layers, units, dropout rate, etc. will be optmized. Note that a dropout rate = 0 is\n",
    "    ## the same as excluding that dropout layer... \n",
    "    for i in range(0, num_FC_layers):\n",
    "        model_cnn.add(keras.layers.Dense(num_FC_units[i], \\\n",
    "                                         kernel_initializer=K_INIT, \\\n",
    "                                         kernel_regularizer=K_REG,\\\n",
    "                                         activation='elu', \n",
    "                                         name='DENSE_'+str(i)))\n",
    "        if i != num_FC_layers - 1:  # Only add dropout if it's not the last iteration\n",
    "            model_cnn.add(keras.layers.Dropout(DROPOUT[i], name='DROPOUT_'+str(i)))  \n",
    "\n",
    "    ## Final layer for multi-label classification\n",
    "    model_cnn.add(keras.layers.Dense(OUTPUT_DIMS, kernel_initializer=K_INIT, \\\n",
    "                                        activation='linear', name='OUTPUT'))\n",
    "                             \n",
    "    \n",
    "    return model_cnn"
   ]
  },
  {
   "attachments": {},
   "cell_type": "markdown",
   "metadata": {},
   "source": [
    "### 4.1) Bayesian Optimization (BO) of the hyperparameters\n",
    "\n",
    "First we create a cross-validation strategy that switches fruit groups as part of the validation process."
   ]
  },
  {
   "cell_type": "code",
   "execution_count": null,
   "metadata": {
    "ExecuteTime": {
     "end_time": "2022-01-04T06:36:49.440811Z",
     "start_time": "2022-01-04T06:36:49.409339Z"
    },
    "execution": {
     "iopub.execute_input": "2023-05-18T16:54:49.476118Z",
     "iopub.status.busy": "2023-05-18T16:54:49.475657Z",
     "iopub.status.idle": "2023-05-18T16:54:49.495347Z",
     "shell.execute_reply": "2023-05-18T16:54:49.494161Z",
     "shell.execute_reply.started": "2023-05-18T16:54:49.476092Z"
    },
    "tags": []
   },
   "outputs": [],
   "source": [
    "def standardize_column2(X_train, X_cal, X_val):\n",
    "    ## We train the scaler on the full train set and apply it to the other datasets\n",
    "    scaler = StandardScaler().fit(X_train)\n",
    "    ## for columns we fit the scaler to the train set and apply it to the test set\n",
    "    X_cal_scaled = scaler.transform(X_cal)\n",
    "    X_val_scaled = scaler.transform(X_val)\n",
    "    return [X_cal_scaled, X_val_scaled]\n",
    "\n",
    "\n",
    "## Set the path where the computed models are saved\n",
    "path='regression_models_v1/'\n",
    "\n",
    "## initialize an empty list for storing additional metrics\n",
    "metricas = []\n",
    "\n",
    "## Callbacks to use during training\n",
    "early_stop = keras.callbacks.EarlyStopping(monitor='val_loss', min_delta=5e-4, patience=52, mode='auto', restore_best_weights=True)\n",
    "## Note that the min_lr in rdlr is the one found in the LRFinder test\n",
    "\n",
    "rdlr = ReduceLROnPlateau(patience=25, factor=0.5, min_lr=1e-6, monitor='val_loss', verbose=0)\n",
    "\n",
    "## This callback draws small progress bar in the screen for each training session. Its useful to check the progress of the task\n",
    "progressbar = tfa.callbacks.TQDMProgressBar(show_epoch_progress = False)\n",
    "\n",
    "## Add support for wandb logging\n",
    "# wandb_kwargs = {\"project\": \"multifruit_CNN_embedding\", \"name\": \"study_v1_\"+dt_string.replace(':','_').replace('/','_').replace(' ','_')}\n",
    "# wandbc = WeightsAndBiasesCallback(wandb_kwargs=wandb_kwargs)\n",
    "\n",
    "## Define the objective function to monitor during optimization, set the hyperperameters ranges, etc.\n",
    "def objective(trial):\n",
    "\n",
    "    print('\\n\\n-------------- TRIAL NUMBER: ',trial.number,'------------------')\n",
    "    \n",
    "    ## Clear clutter from previous session   \n",
    "    keras.backend.clear_session()\n",
    "    \n",
    "    ## Redifine the train list data (without avocado data)\n",
    "    x_train_list = [x_apple_train.astype(np.float32), x_kiwi_train.astype(np.float32),  x_mango_train.astype(np.float32), \\\n",
    "                    x_pear_train.astype(np.float32)]\n",
    "    y_train_list = [y_apple_train.astype(np.float32), y_kiwi_train.astype(np.float32), y_mango_train.astype(np.float32),\n",
    "                    y_pear_train.astype(np.float32)]\n",
    "\n",
    "    ## Create a list with the names of the fruits\n",
    "    fruits = ['Apple', 'Kiwi', 'Mango', 'Pear']\n",
    "    \n",
    "    ## In the follow steps we define the search space for each of the hyperparameters. This is done by using\n",
    "    ## distributions/intervals of integers or floats from a min, to a max with a certain step.\n",
    "        \n",
    "    ## Number of FC layers\n",
    "    NUM_FC_LAYERS = trial.suggest_int(\"num_FC_layers\",1,3, step=1)\n",
    "    ## Number of units per layer\n",
    "    NUM_FC_UNITS = [int(trial.suggest_int(\"num_FC_UNITS_\"+str(i), 8, 128, step=4)) for i in range(0,NUM_FC_LAYERS)]\n",
    "    ## Filter size  (K_WIDTH)\n",
    "    FILTER_SIZE = int(trial.suggest_int(\"filter_size\", 1, 45, step=2)) \n",
    "    ## Dropout rate (DROPOUT)\n",
    "    DROPOUT_RATE = [trial.suggest_float(\"DROPOUT_\"+str(i), 0., 0.6, step=0.005) for i in range(0,NUM_FC_LAYERS-1)]\n",
    "    ## L2 regularization\n",
    "    REG_BETA = trial.suggest_float(\"reg_beta\", 0, 0.1, step=0.0005)\n",
    "    ## Add batch size to the hyperparameters to be optimized. This hyperparameter is not used directly by the model()\n",
    "    ## but is used in the training phase.\n",
    "    BATCH_SIZE = int(trial.suggest_int(\"batch_size\", 32, 256, step=16))\n",
    "    ## Initial LR for Adam optimizer corresponding to the LRmax chosen in the LRFinder test\n",
    "    LR=0.03\n",
    "\n",
    "    ## Instatiate the model for a new set of hyperparameters\n",
    "    model = create_model(NUM_FC_LAYERS, NUM_FC_UNITS, FILTER_SIZE, DROPOUT_RATE, REG_BETA)\n",
    "    print('\\n\\ncreate_model(',NUM_FC_LAYERS, NUM_FC_UNITS, FILTER_SIZE, DROPOUT_RATE, REG_BETA,')')\n",
    "    model.summary()\n",
    "    print('\\n')\n",
    "       \n",
    "    ## Compile the model, use Adam() as optimizer, and mean squared error (mse) as loss function\n",
    "    ## Note: the learning_rate in Adam() is set to the max LR found in the LRFinder test\n",
    "    model.compile(optimizer=tf.keras.optimizers.Adam(learning_rate=LR), loss=\"mse\", metrics=[\"mse\"])\n",
    "        \n",
    "       \n",
    "    ## Empty lists to store the training and validation metrics\n",
    "    scores_cal_list = []\n",
    "    scores_val_list = []\n",
    "\n",
    "    x_train = np.concatenate(x_train_list)\n",
    "    \n",
    "    for i in np.arange(0, len(x_train_list)):\n",
    "        \n",
    "            ## Split the train data into calibration and validation sets\n",
    "            x_cal_i = np.concatenate(x_train_list[:3])  # the first 3 fruit\n",
    "            x_val_i = x_train_list[-1] # the last fruit\n",
    "            \n",
    "            y_cal_i = np.concatenate(y_train_list[:3])\n",
    "            y_val_i = y_train_list[-1]\n",
    "            \n",
    "            cal_set_name = fruits[:3]\n",
    "            val_set_name = fruits[-1]\n",
    "            \n",
    "            print('\\n Trial(Run) = ',trial.number,'(',i+1,') -----------\\n Training on cal set: ', cal_set_name, ' and validating on val set: ', val_set_name)\n",
    "\n",
    "            ## Standardize the calibration and validation sets\n",
    "            x_cal_i_scaled_col, x_val_i_scaled_col = standardize_column2(x_train, x_cal_i, x_val_i)\n",
    "            \n",
    "            ## Shuflle the calibration data\n",
    "            x_cal_i_scaled_col, y_cal_i = shuffle(x_cal_i_scaled_col, y_cal_i, random_state=42)\n",
    "\n",
    "            ## Reinitialize the model weights\n",
    "            model = create_model(NUM_FC_LAYERS, NUM_FC_UNITS, FILTER_SIZE, DROPOUT_RATE, REG_BETA)\n",
    "            model.compile(optimizer=tf.keras.optimizers.Adam(learning_rate=LR), loss=\"mse\", metrics=[\"mse\"])\n",
    "            ## define the model/study name. In this case we will save a model with the same name of its trial\n",
    "            MODEL_NAME='study_v1_trial='+str(trial.number)+'('+str(i)+').h5'\n",
    "            ## Callbacks\n",
    "            checkpointer = keras.callbacks.ModelCheckpoint(filepath=path+MODEL_NAME, verbose = 0, save_best_only = True)\n",
    "\n",
    "            ## Train the model on cal data and validate it on val data\n",
    "            model.fit(x_cal_i_scaled_col, y_cal_i, batch_size = BATCH_SIZE, epochs = 500, \\\n",
    "                      validation_data = (x_val_i_scaled_col, y_val_i), \\\n",
    "                      callbacks=[rdlr, early_stop, checkpointer, progressbar], \\\n",
    "                      verbose=0)\n",
    "            \n",
    "            ## Load the best model weights\n",
    "            model.load_weights(path+MODEL_NAME)\n",
    "    \n",
    "            ## Compute auxiliary metrics\n",
    "            scores_cal = model.evaluate(x_cal_i_scaled_col, y_cal_i, verbose=0)\n",
    "            print('Calibration using {} RMSE = {}'.format(cal_set_name, np.sqrt(scores_cal[1])))\n",
    "            scores_cal_list.append(np.sqrt(scores_cal[1]))\n",
    "            \n",
    "            scores_val = model.evaluate(x_val_i_scaled_col, y_val_i, verbose=0) \n",
    "            print('Validation using {} RMSE = {}'.format(val_set_name, np.sqrt(scores_val[1])))\n",
    "            scores_val_list.append(np.sqrt(scores_val[1]))\n",
    "\n",
    "            ## Rotate the train data to use a different set of fruits as calibration and validation sets\n",
    "            ## we use slicing to create a new list that contains all elements of the original list except the first \n",
    "            ## one (my_list[1:]) and then add the first element of the original list to the end of the new list (+ my_list[:1]).\n",
    "            x_train_list = x_train_list[1:] + x_train_list[:1]\n",
    "            y_train_list = y_train_list[1:] + y_train_list[:1]\n",
    "            fruits = np.roll(fruits, 1)\n",
    "\n",
    "            ## Clear clutter from previous session\n",
    "            keras.backend.clear_session()\n",
    "    ### END FOR LOOP\n",
    "\n",
    "    ## Compute the mean of the metrics over the 4 trials\n",
    "    scores_cal_mean = np.mean(scores_cal_list)\n",
    "    scores_val_mean = np.mean(scores_val_list)\n",
    "    scores_cal_std = np.std(scores_cal_list)\n",
    "    scores_val_std = np.std(scores_val_list)\n",
    "    \n",
    "    print('\\n\\nMEAN OVER CROSS-FRUIT VALIDATION ----------------------------------')\n",
    "    print('Multifruit calibration RMSE = {}+-{}'.format(scores_cal_mean, scores_cal_std))\n",
    "    print('Multifruit validation RMSE = {}+-{}\\n\\n'.format(scores_val_mean, scores_val_std))\n",
    "    \n",
    "    ## Append each trial's hyperparameters and scores into a list for later analysis \n",
    "    metricas.append([MODEL_NAME, NUM_FC_LAYERS, NUM_FC_UNITS, FILTER_SIZE, DROPOUT_RATE, \n",
    "                     REG_BETA, BATCH_SIZE, scores_cal_mean, scores_val_mean])\n",
    "    \n",
    "    # wandb.log(data={\"Trial\": trial.number})\n",
    "    # wandb.log(data={\"Mean RMSE cal\": scores_cal_mean})\n",
    "    # wandb.log(data={\"Mean RMSE val\": scores_val_mean})\n",
    "    # config = dict(trial.params)\n",
    "    # wandb.log(data=config)\n",
    "    \n",
    "    ## The metric we want to minimize. In this case we are chosing weighted sum between tuning and cal metrics\n",
    "    return scores_val_mean"
   ]
  },
  {
   "cell_type": "code",
   "execution_count": null,
   "metadata": {
    "ExecuteTime": {
     "end_time": "2022-01-05T01:14:46.535017Z",
     "start_time": "2022-01-04T06:37:10.909705Z"
    },
    "execution": {
     "iopub.execute_input": "2023-05-18T16:54:49.497555Z",
     "iopub.status.busy": "2023-05-18T16:54:49.497117Z",
     "iopub.status.idle": "2023-05-19T17:00:04.512655Z",
     "shell.execute_reply": "2023-05-19T17:00:04.501954Z",
     "shell.execute_reply.started": "2023-05-18T16:54:49.497517Z"
    },
    "tags": []
   },
   "outputs": [],
   "source": [
    "## Enable Optuna logger (for tracking purposes) \n",
    "optuna.logging.get_logger(\"optuna\").addHandler(logging.StreamHandler(sys.stdout))\n",
    "\n",
    "## Unique identifier of the study\n",
    "study_name = \"study_v1\"\n",
    "\n",
    "## Name of the SQL data base where optuna saves the trials, values, etc... \n",
    "## The optimization and logs the results into a database .db file that can be monitored in real time with the optuna-dashboard\n",
    "storage_name = \"sqlite:///{}.db\".format(study_name)\n",
    "\n",
    "## Create a study that will, in this case minimize the objective function previously defined\n",
    "## We use TPE with a cte seed (for reproducibility), consider_endpoints = True (to consider the min and max values of the search space).\n",
    "study_v1 = optuna.create_study(study_name=study_name, \\\n",
    "                            storage=storage_name,  \\\n",
    "                            direction='minimize',  \\\n",
    "                            sampler = optuna.samplers.TPESampler(seed = 12345,\\\n",
    "                                                                 consider_endpoints = True,\\\n",
    "                                                                 multivariate = True,\\\n",
    "                                                                 n_startup_trials = 100,\\\n",
    "                                                                 warn_independent_sampling=False),\\\n",
    "                            load_if_exists=True)\n",
    "\n",
    "\n",
    "## Start optimization with a budget of n_trials\n",
    "study_v1.optimize(objective, n_trials = 1000) # Use callbacks=[wandbc] if you want to log the results to wandb"
   ]
  },
  {
   "cell_type": "code",
   "execution_count": 15,
   "metadata": {
    "execution": {
     "iopub.execute_input": "2023-05-19T18:49:15.177364Z",
     "iopub.status.busy": "2023-05-19T18:49:15.176686Z",
     "iopub.status.idle": "2023-05-19T18:49:15.226789Z",
     "shell.execute_reply": "2023-05-19T18:49:15.225233Z",
     "shell.execute_reply.started": "2023-05-19T18:49:15.177335Z"
    },
    "tags": []
   },
   "outputs": [],
   "source": [
    "metricas_df=pd.DataFrame(metricas, columns=['MODEL_NAME', 'NUM_FC_LAYERS', 'NUM_FC_UNITS', 'FILTER_SIZE', 'DROPOUT_RATE', 'REG_BETA',\n",
    "                                            'BATCH_SIZE', 'RMSE_cal_mean', 'RMSE_val_mean'])\n",
    "\n",
    "metricas_df.to_csv('metricas_v1.csv')"
   ]
  },
  {
   "cell_type": "code",
   "execution_count": 15,
   "metadata": {
    "ExecuteTime": {
     "end_time": "2023-04-02T19:47:04.166160Z",
     "start_time": "2023-04-02T19:47:04.101161Z"
    },
    "execution": {
     "iopub.execute_input": "2023-05-19T18:49:17.882069Z",
     "iopub.status.busy": "2023-05-19T18:49:17.881437Z",
     "iopub.status.idle": "2023-05-19T18:49:17.909197Z",
     "shell.execute_reply": "2023-05-19T18:49:17.908286Z",
     "shell.execute_reply.started": "2023-05-19T18:49:17.882042Z"
    },
    "tags": []
   },
   "outputs": [
    {
     "name": "stdout",
     "output_type": "stream",
     "text": [
      "Best trial: 408\n",
      "Best trial value: 1.109058731830332\n",
      "Best trial hyperparameters: {'DROPOUT_0': 0.54, 'batch_size': 224, 'filter_size': 3, 'num_FC_UNITS_0': 108, 'num_FC_UNITS_1': 44, 'num_FC_layers': 2, 'reg_beta': 0.0735}\n"
     ]
    }
   ],
   "source": [
    "study_v1 = optuna.load_study(study_name=\"study_v1\", storage=\"sqlite:///study_v1.db\")\n",
    "print('Best trial:',study_v1.best_trial.number)\n",
    "print('Best trial value:',study_v1.best_trial.value)\n",
    "print('Best trial hyperparameters:',study_v1.best_trial.params)"
   ]
  }
 ],
 "metadata": {
  "hide_input": false,
  "kernelspec": {
   "display_name": "Python 3 (ipykernel)",
   "language": "python",
   "name": "python3"
  },
  "language_info": {
   "codemirror_mode": {
    "name": "ipython",
    "version": 3
   },
   "file_extension": ".py",
   "mimetype": "text/x-python",
   "name": "python",
   "nbconvert_exporter": "python",
   "pygments_lexer": "ipython3",
   "version": "3.10.9"
  },
  "toc": {
   "base_numbering": 1,
   "nav_menu": {},
   "number_sections": true,
   "sideBar": true,
   "skip_h1_title": true,
   "title_cell": "Table of Contents",
   "title_sidebar": "Contents",
   "toc_cell": false,
   "toc_position": {
    "height": "588px",
    "left": "28px",
    "top": "110px",
    "width": "265px"
   },
   "toc_section_display": true,
   "toc_window_display": false
  },
  "varInspector": {
   "cols": {
    "lenName": 16,
    "lenType": 16,
    "lenVar": 40
   },
   "kernels_config": {
    "python": {
     "delete_cmd_postfix": "",
     "delete_cmd_prefix": "del ",
     "library": "var_list.py",
     "varRefreshCmd": "print(var_dic_list())"
    },
    "r": {
     "delete_cmd_postfix": ") ",
     "delete_cmd_prefix": "rm(",
     "library": "var_list.r",
     "varRefreshCmd": "cat(var_dic_list()) "
    }
   },
   "position": {
    "height": "666px",
    "left": "898px",
    "right": "20px",
    "top": "120px",
    "width": "397px"
   },
   "types_to_exclude": [
    "module",
    "function",
    "builtin_function_or_method",
    "instance",
    "_Feature"
   ],
   "window_display": false
  }
 },
 "nbformat": 4,
 "nbformat_minor": 4
}
